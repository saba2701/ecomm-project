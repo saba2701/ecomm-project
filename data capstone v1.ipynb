{
 "cells": [
  {
   "cell_type": "code",
   "execution_count": 1,
   "metadata": {},
   "outputs": [],
   "source": [
    "import numpy as np\n",
    "import pandas as pd\n",
    "import seaborn as sns\n",
    "%matplotlib inline"
   ]
  },
  {
   "cell_type": "code",
   "execution_count": 2,
   "metadata": {},
   "outputs": [
    {
     "data": {
      "text/html": [
       "<div>\n",
       "<style scoped>\n",
       "    .dataframe tbody tr th:only-of-type {\n",
       "        vertical-align: middle;\n",
       "    }\n",
       "\n",
       "    .dataframe tbody tr th {\n",
       "        vertical-align: top;\n",
       "    }\n",
       "\n",
       "    .dataframe thead th {\n",
       "        text-align: right;\n",
       "    }\n",
       "</style>\n",
       "<table border=\"1\" class=\"dataframe\">\n",
       "  <thead>\n",
       "    <tr style=\"text-align: right;\">\n",
       "      <th></th>\n",
       "      <th>Restaurant ID</th>\n",
       "      <th>Restaurant Name</th>\n",
       "      <th>Country Code</th>\n",
       "      <th>City</th>\n",
       "      <th>Address</th>\n",
       "      <th>Locality</th>\n",
       "      <th>Locality Verbose</th>\n",
       "      <th>Longitude</th>\n",
       "      <th>Latitude</th>\n",
       "      <th>Cuisines</th>\n",
       "      <th>Average Cost for two</th>\n",
       "      <th>Currency</th>\n",
       "      <th>Has Table booking</th>\n",
       "      <th>Has Online delivery</th>\n",
       "      <th>Price range</th>\n",
       "      <th>Aggregate rating</th>\n",
       "      <th>Rating color</th>\n",
       "      <th>Rating text</th>\n",
       "      <th>Votes</th>\n",
       "    </tr>\n",
       "  </thead>\n",
       "  <tbody>\n",
       "    <tr>\n",
       "      <th>0</th>\n",
       "      <td>7402935</td>\n",
       "      <td>Skye</td>\n",
       "      <td>94</td>\n",
       "      <td>Jakarta</td>\n",
       "      <td>Menara BCA, Lantai 56, Jl. MH. Thamrin, Thamri...</td>\n",
       "      <td>Grand Indonesia Mall, Thamrin</td>\n",
       "      <td>Grand Indonesia Mall, Thamrin, Jakarta</td>\n",
       "      <td>106.821999</td>\n",
       "      <td>-6.196778</td>\n",
       "      <td>Italian, Continental</td>\n",
       "      <td>800000</td>\n",
       "      <td>Indonesian Rupiah(IDR)</td>\n",
       "      <td>No</td>\n",
       "      <td>No</td>\n",
       "      <td>3</td>\n",
       "      <td>4.1</td>\n",
       "      <td>Green</td>\n",
       "      <td>Very Good</td>\n",
       "      <td>1498</td>\n",
       "    </tr>\n",
       "    <tr>\n",
       "      <th>1</th>\n",
       "      <td>7410290</td>\n",
       "      <td>Satoo - Hotel Shangri-La</td>\n",
       "      <td>94</td>\n",
       "      <td>Jakarta</td>\n",
       "      <td>Hotel Shangri-La, Jl. Jend. Sudirman</td>\n",
       "      <td>Hotel Shangri-La, Sudirman</td>\n",
       "      <td>Hotel Shangri-La, Sudirman, Jakarta</td>\n",
       "      <td>106.818961</td>\n",
       "      <td>-6.203292</td>\n",
       "      <td>Asian, Indonesian, Western</td>\n",
       "      <td>800000</td>\n",
       "      <td>Indonesian Rupiah(IDR)</td>\n",
       "      <td>No</td>\n",
       "      <td>No</td>\n",
       "      <td>3</td>\n",
       "      <td>4.6</td>\n",
       "      <td>Dark Green</td>\n",
       "      <td>Excellent</td>\n",
       "      <td>873</td>\n",
       "    </tr>\n",
       "  </tbody>\n",
       "</table>\n",
       "</div>"
      ],
      "text/plain": [
       "   Restaurant ID           Restaurant Name  Country Code     City  \\\n",
       "0        7402935                      Skye            94  Jakarta   \n",
       "1        7410290  Satoo - Hotel Shangri-La            94  Jakarta   \n",
       "\n",
       "                                             Address  \\\n",
       "0  Menara BCA, Lantai 56, Jl. MH. Thamrin, Thamri...   \n",
       "1               Hotel Shangri-La, Jl. Jend. Sudirman   \n",
       "\n",
       "                        Locality                        Locality Verbose  \\\n",
       "0  Grand Indonesia Mall, Thamrin  Grand Indonesia Mall, Thamrin, Jakarta   \n",
       "1     Hotel Shangri-La, Sudirman     Hotel Shangri-La, Sudirman, Jakarta   \n",
       "\n",
       "    Longitude  Latitude                    Cuisines  Average Cost for two  \\\n",
       "0  106.821999 -6.196778        Italian, Continental                800000   \n",
       "1  106.818961 -6.203292  Asian, Indonesian, Western                800000   \n",
       "\n",
       "                 Currency Has Table booking Has Online delivery  Price range  \\\n",
       "0  Indonesian Rupiah(IDR)                No                  No            3   \n",
       "1  Indonesian Rupiah(IDR)                No                  No            3   \n",
       "\n",
       "   Aggregate rating Rating color Rating text  Votes  \n",
       "0               4.1        Green   Very Good   1498  \n",
       "1               4.6   Dark Green   Excellent    873  "
      ]
     },
     "execution_count": 2,
     "metadata": {},
     "output_type": "execute_result"
    }
   ],
   "source": [
    "data = pd.read_excel(r'C:/Users/WELCOME/Desktop/simplilearn/data.xlsx')\n",
    "data.head(2)"
   ]
  },
  {
   "cell_type": "code",
   "execution_count": 3,
   "metadata": {},
   "outputs": [
    {
     "data": {
      "text/plain": [
       "Restaurant ID           0\n",
       "Restaurant Name         1\n",
       "Country Code            0\n",
       "City                    0\n",
       "Address                 0\n",
       "Locality                0\n",
       "Locality Verbose        0\n",
       "Longitude               0\n",
       "Latitude                0\n",
       "Cuisines                9\n",
       "Average Cost for two    0\n",
       "Currency                0\n",
       "Has Table booking       0\n",
       "Has Online delivery     0\n",
       "Price range             0\n",
       "Aggregate rating        0\n",
       "Rating color            0\n",
       "Rating text             0\n",
       "Votes                   0\n",
       "dtype: int64"
      ]
     },
     "execution_count": 3,
     "metadata": {},
     "output_type": "execute_result"
    }
   ],
   "source": [
    "data.isna().sum(axis = 0)"
   ]
  },
  {
   "cell_type": "code",
   "execution_count": 4,
   "metadata": {},
   "outputs": [
    {
     "data": {
      "text/plain": [
       "Restaurant ID             int64\n",
       "Restaurant Name          object\n",
       "Country Code              int64\n",
       "City                     object\n",
       "Address                  object\n",
       "Locality                 object\n",
       "Locality Verbose         object\n",
       "Longitude               float64\n",
       "Latitude                float64\n",
       "Cuisines                 object\n",
       "Average Cost for two      int64\n",
       "Currency                 object\n",
       "Has Table booking        object\n",
       "Has Online delivery      object\n",
       "Price range               int64\n",
       "Aggregate rating        float64\n",
       "Rating color             object\n",
       "Rating text              object\n",
       "Votes                     int64\n",
       "dtype: object"
      ]
     },
     "execution_count": 4,
     "metadata": {},
     "output_type": "execute_result"
    }
   ],
   "source": [
    "data.dtypes"
   ]
  },
  {
   "cell_type": "code",
   "execution_count": 5,
   "metadata": {},
   "outputs": [
    {
     "data": {
      "text/plain": [
       "0       False\n",
       "1       False\n",
       "2       False\n",
       "3       False\n",
       "4       False\n",
       "        ...  \n",
       "9546    False\n",
       "9547    False\n",
       "9548    False\n",
       "9549    False\n",
       "9550    False\n",
       "Length: 9551, dtype: bool"
      ]
     },
     "execution_count": 5,
     "metadata": {},
     "output_type": "execute_result"
    }
   ],
   "source": [
    "data.duplicated()"
   ]
  },
  {
   "cell_type": "code",
   "execution_count": 6,
   "metadata": {},
   "outputs": [
    {
     "data": {
      "text/html": [
       "<div>\n",
       "<style scoped>\n",
       "    .dataframe tbody tr th:only-of-type {\n",
       "        vertical-align: middle;\n",
       "    }\n",
       "\n",
       "    .dataframe tbody tr th {\n",
       "        vertical-align: top;\n",
       "    }\n",
       "\n",
       "    .dataframe thead th {\n",
       "        text-align: right;\n",
       "    }\n",
       "</style>\n",
       "<table border=\"1\" class=\"dataframe\">\n",
       "  <thead>\n",
       "    <tr style=\"text-align: right;\">\n",
       "      <th></th>\n",
       "      <th>Restaurant_ID</th>\n",
       "      <th>Restaurant_Name</th>\n",
       "      <th>Country_Code</th>\n",
       "      <th>City</th>\n",
       "      <th>Address</th>\n",
       "      <th>Locality</th>\n",
       "      <th>Locality_Verbose</th>\n",
       "      <th>Longitude</th>\n",
       "      <th>Latitude</th>\n",
       "      <th>Cuisines</th>\n",
       "      <th>Average_Cost_for_two</th>\n",
       "      <th>Currency</th>\n",
       "      <th>Has_Table_booking</th>\n",
       "      <th>Has_Online_delivery</th>\n",
       "      <th>Price_range</th>\n",
       "      <th>Aggregate_rating</th>\n",
       "      <th>Rating_color</th>\n",
       "      <th>Rating_text</th>\n",
       "      <th>Votes</th>\n",
       "    </tr>\n",
       "  </thead>\n",
       "  <tbody>\n",
       "    <tr>\n",
       "      <th>0</th>\n",
       "      <td>7402935</td>\n",
       "      <td>Skye</td>\n",
       "      <td>94</td>\n",
       "      <td>Jakarta</td>\n",
       "      <td>Menara BCA, Lantai 56, Jl. MH. Thamrin, Thamri...</td>\n",
       "      <td>Grand Indonesia Mall, Thamrin</td>\n",
       "      <td>Grand Indonesia Mall, Thamrin, Jakarta</td>\n",
       "      <td>106.821999</td>\n",
       "      <td>-6.196778</td>\n",
       "      <td>Italian, Continental</td>\n",
       "      <td>800000</td>\n",
       "      <td>Indonesian Rupiah(IDR)</td>\n",
       "      <td>No</td>\n",
       "      <td>No</td>\n",
       "      <td>3</td>\n",
       "      <td>4.1</td>\n",
       "      <td>Green</td>\n",
       "      <td>Very Good</td>\n",
       "      <td>1498</td>\n",
       "    </tr>\n",
       "    <tr>\n",
       "      <th>1</th>\n",
       "      <td>7410290</td>\n",
       "      <td>Satoo - Hotel Shangri-La</td>\n",
       "      <td>94</td>\n",
       "      <td>Jakarta</td>\n",
       "      <td>Hotel Shangri-La, Jl. Jend. Sudirman</td>\n",
       "      <td>Hotel Shangri-La, Sudirman</td>\n",
       "      <td>Hotel Shangri-La, Sudirman, Jakarta</td>\n",
       "      <td>106.818961</td>\n",
       "      <td>-6.203292</td>\n",
       "      <td>Asian, Indonesian, Western</td>\n",
       "      <td>800000</td>\n",
       "      <td>Indonesian Rupiah(IDR)</td>\n",
       "      <td>No</td>\n",
       "      <td>No</td>\n",
       "      <td>3</td>\n",
       "      <td>4.6</td>\n",
       "      <td>Dark Green</td>\n",
       "      <td>Excellent</td>\n",
       "      <td>873</td>\n",
       "    </tr>\n",
       "  </tbody>\n",
       "</table>\n",
       "</div>"
      ],
      "text/plain": [
       "   Restaurant_ID           Restaurant_Name  Country_Code     City  \\\n",
       "0        7402935                      Skye            94  Jakarta   \n",
       "1        7410290  Satoo - Hotel Shangri-La            94  Jakarta   \n",
       "\n",
       "                                             Address  \\\n",
       "0  Menara BCA, Lantai 56, Jl. MH. Thamrin, Thamri...   \n",
       "1               Hotel Shangri-La, Jl. Jend. Sudirman   \n",
       "\n",
       "                        Locality                        Locality_Verbose  \\\n",
       "0  Grand Indonesia Mall, Thamrin  Grand Indonesia Mall, Thamrin, Jakarta   \n",
       "1     Hotel Shangri-La, Sudirman     Hotel Shangri-La, Sudirman, Jakarta   \n",
       "\n",
       "    Longitude  Latitude                    Cuisines  Average_Cost_for_two  \\\n",
       "0  106.821999 -6.196778        Italian, Continental                800000   \n",
       "1  106.818961 -6.203292  Asian, Indonesian, Western                800000   \n",
       "\n",
       "                 Currency Has_Table_booking Has_Online_delivery  Price_range  \\\n",
       "0  Indonesian Rupiah(IDR)                No                  No            3   \n",
       "1  Indonesian Rupiah(IDR)                No                  No            3   \n",
       "\n",
       "   Aggregate_rating Rating_color Rating_text  Votes  \n",
       "0               4.1        Green   Very Good   1498  \n",
       "1               4.6   Dark Green   Excellent    873  "
      ]
     },
     "execution_count": 6,
     "metadata": {},
     "output_type": "execute_result"
    }
   ],
   "source": [
    "data.columns = data.columns.str.replace(' ', '_')\n",
    "data.head(2)"
   ]
  },
  {
   "cell_type": "code",
   "execution_count": 7,
   "metadata": {},
   "outputs": [
    {
     "data": {
      "text/html": [
       "<div>\n",
       "<style scoped>\n",
       "    .dataframe tbody tr th:only-of-type {\n",
       "        vertical-align: middle;\n",
       "    }\n",
       "\n",
       "    .dataframe tbody tr th {\n",
       "        vertical-align: top;\n",
       "    }\n",
       "\n",
       "    .dataframe thead th {\n",
       "        text-align: right;\n",
       "    }\n",
       "</style>\n",
       "<table border=\"1\" class=\"dataframe\">\n",
       "  <thead>\n",
       "    <tr style=\"text-align: right;\">\n",
       "      <th></th>\n",
       "      <th>Restaurant_ID</th>\n",
       "      <th>Restaurant_Name</th>\n",
       "      <th>Country_Code</th>\n",
       "      <th>City</th>\n",
       "      <th>Address</th>\n",
       "      <th>Locality</th>\n",
       "      <th>Locality_Verbose</th>\n",
       "      <th>Longitude</th>\n",
       "      <th>Latitude</th>\n",
       "      <th>Cuisines</th>\n",
       "      <th>Average_Cost_for_two</th>\n",
       "      <th>Currency</th>\n",
       "      <th>Has_Table_booking</th>\n",
       "      <th>Has_Online_delivery</th>\n",
       "      <th>Price_range</th>\n",
       "      <th>Aggregate_rating</th>\n",
       "      <th>Rating_color</th>\n",
       "      <th>Rating_text</th>\n",
       "      <th>Votes</th>\n",
       "    </tr>\n",
       "  </thead>\n",
       "  <tbody>\n",
       "    <tr>\n",
       "      <th>0</th>\n",
       "      <td>7402935</td>\n",
       "      <td>Skye</td>\n",
       "      <td>94</td>\n",
       "      <td>Jakarta</td>\n",
       "      <td>Menara BCA, Lantai 56, Jl. MH. Thamrin, Thamri...</td>\n",
       "      <td>Grand Indonesia Mall, Thamrin</td>\n",
       "      <td>Grand Indonesia Mall, Thamrin, Jakarta</td>\n",
       "      <td>106.821999</td>\n",
       "      <td>-6.196778</td>\n",
       "      <td>Italian, Continental</td>\n",
       "      <td>800000</td>\n",
       "      <td>Indonesian Rupiah(IDR)</td>\n",
       "      <td>No</td>\n",
       "      <td>No</td>\n",
       "      <td>3</td>\n",
       "      <td>4.1</td>\n",
       "      <td>Green</td>\n",
       "      <td>Very Good</td>\n",
       "      <td>1498</td>\n",
       "    </tr>\n",
       "    <tr>\n",
       "      <th>1</th>\n",
       "      <td>7410290</td>\n",
       "      <td>Satoo - Hotel Shangri-La</td>\n",
       "      <td>94</td>\n",
       "      <td>Jakarta</td>\n",
       "      <td>Hotel Shangri-La, Jl. Jend. Sudirman</td>\n",
       "      <td>Hotel Shangri-La, Sudirman</td>\n",
       "      <td>Hotel Shangri-La, Sudirman, Jakarta</td>\n",
       "      <td>106.818961</td>\n",
       "      <td>-6.203292</td>\n",
       "      <td>Asian, Indonesian, Western</td>\n",
       "      <td>800000</td>\n",
       "      <td>Indonesian Rupiah(IDR)</td>\n",
       "      <td>No</td>\n",
       "      <td>No</td>\n",
       "      <td>3</td>\n",
       "      <td>4.6</td>\n",
       "      <td>Dark Green</td>\n",
       "      <td>Excellent</td>\n",
       "      <td>873</td>\n",
       "    </tr>\n",
       "  </tbody>\n",
       "</table>\n",
       "</div>"
      ],
      "text/plain": [
       "   Restaurant_ID           Restaurant_Name  Country_Code     City  \\\n",
       "0        7402935                      Skye            94  Jakarta   \n",
       "1        7410290  Satoo - Hotel Shangri-La            94  Jakarta   \n",
       "\n",
       "                                             Address  \\\n",
       "0  Menara BCA, Lantai 56, Jl. MH. Thamrin, Thamri...   \n",
       "1               Hotel Shangri-La, Jl. Jend. Sudirman   \n",
       "\n",
       "                        Locality                        Locality_Verbose  \\\n",
       "0  Grand Indonesia Mall, Thamrin  Grand Indonesia Mall, Thamrin, Jakarta   \n",
       "1     Hotel Shangri-La, Sudirman     Hotel Shangri-La, Sudirman, Jakarta   \n",
       "\n",
       "    Longitude  Latitude                    Cuisines  Average_Cost_for_two  \\\n",
       "0  106.821999 -6.196778        Italian, Continental                800000   \n",
       "1  106.818961 -6.203292  Asian, Indonesian, Western                800000   \n",
       "\n",
       "                 Currency Has_Table_booking Has_Online_delivery  Price_range  \\\n",
       "0  Indonesian Rupiah(IDR)                No                  No            3   \n",
       "1  Indonesian Rupiah(IDR)                No                  No            3   \n",
       "\n",
       "   Aggregate_rating Rating_color Rating_text  Votes  \n",
       "0               4.1        Green   Very Good   1498  \n",
       "1               4.6   Dark Green   Excellent    873  "
      ]
     },
     "execution_count": 7,
     "metadata": {},
     "output_type": "execute_result"
    }
   ],
   "source": [
    "data1 = data.copy()\n",
    "data1.head(2)"
   ]
  },
  {
   "cell_type": "code",
   "execution_count": 8,
   "metadata": {},
   "outputs": [
    {
     "data": {
      "text/plain": [
       "Restaurant_ID             int64\n",
       "Restaurant_Name          object\n",
       "Country_Code              int64\n",
       "City                     object\n",
       "Address                  object\n",
       "Locality                 object\n",
       "Locality_Verbose         object\n",
       "Longitude               float64\n",
       "Latitude                float64\n",
       "Cuisines                 object\n",
       "Average_Cost_for_two      int64\n",
       "Currency                 object\n",
       "Has_Table_booking        object\n",
       "Has_Online_delivery      object\n",
       "Price_range               int64\n",
       "Aggregate_rating        float64\n",
       "Rating_color             object\n",
       "Rating_text              object\n",
       "Votes                     int64\n",
       "dtype: object"
      ]
     },
     "execution_count": 8,
     "metadata": {},
     "output_type": "execute_result"
    }
   ],
   "source": [
    "data.dtypes"
   ]
  },
  {
   "cell_type": "code",
   "execution_count": 9,
   "metadata": {},
   "outputs": [],
   "source": [
    "data1['Has_Table_booking'] = pd.to_numeric(data1['Has_Table_booking'],errors='coerce')"
   ]
  },
  {
   "cell_type": "code",
   "execution_count": 10,
   "metadata": {},
   "outputs": [
    {
     "data": {
      "text/plain": [
       "Restaurant_ID             int64\n",
       "Restaurant_Name          object\n",
       "Country_Code              int64\n",
       "City                     object\n",
       "Address                  object\n",
       "Locality                 object\n",
       "Locality_Verbose         object\n",
       "Longitude               float64\n",
       "Latitude                float64\n",
       "Cuisines                 object\n",
       "Average_Cost_for_two      int64\n",
       "Currency                 object\n",
       "Has_Table_booking       float64\n",
       "Has_Online_delivery      object\n",
       "Price_range               int64\n",
       "Aggregate_rating        float64\n",
       "Rating_color             object\n",
       "Rating_text              object\n",
       "Votes                     int64\n",
       "dtype: object"
      ]
     },
     "execution_count": 10,
     "metadata": {},
     "output_type": "execute_result"
    }
   ],
   "source": [
    "data1.dtypes"
   ]
  },
  {
   "cell_type": "code",
   "execution_count": 27,
   "metadata": {},
   "outputs": [
    {
     "data": {
      "text/plain": [
       "Has_Table_booking\n",
       "No     87.875615\n",
       "Yes    12.124385\n",
       "Name: Restaurant_ID, dtype: float64"
      ]
     },
     "execution_count": 27,
     "metadata": {},
     "output_type": "execute_result"
    }
   ],
   "source": [
    "data.groupby(['Has_Table_booking'])['Restaurant_ID'].count().apply(lambda x:100 * x / float(8393+1158))"
   ]
  },
  {
   "cell_type": "code",
   "execution_count": 20,
   "metadata": {},
   "outputs": [
    {
     "data": {
      "text/plain": [
       "Has_Online_delivery\n",
       "No     7100\n",
       "Yes    2451\n",
       "Name: Restaurant_ID, dtype: int64"
      ]
     },
     "execution_count": 20,
     "metadata": {},
     "output_type": "execute_result"
    }
   ],
   "source": [
    "online_del = data.groupby(['Has_Online_delivery'])['Restaurant_ID'].count()\n",
    "online_del"
   ]
  },
  {
   "cell_type": "code",
   "execution_count": 26,
   "metadata": {},
   "outputs": [
    {
     "data": {
      "text/plain": [
       "Has_Online_delivery\n",
       "No     74.337766\n",
       "Yes    25.662234\n",
       "Name: Restaurant_ID, dtype: float64"
      ]
     },
     "execution_count": 26,
     "metadata": {},
     "output_type": "execute_result"
    }
   ],
   "source": [
    "Onl_del_cent = online_del.apply(lambda x:100 * x / float(7100+2451))\n",
    "Onl_del_cent"
   ]
  },
  {
   "cell_type": "code",
   "execution_count": 43,
   "metadata": {},
   "outputs": [
    {
     "data": {
      "text/plain": [
       "462817"
      ]
     },
     "execution_count": 43,
     "metadata": {},
     "output_type": "execute_result"
    }
   ],
   "source": [
    "No_votes = (data[data['Has_Online_delivery'] == 'No'].sum()['Votes']) - (data[data['Has_Online_delivery'] == 'Yes'].sum()['Votes'])\n",
    "No_votes"
   ]
  },
  {
   "cell_type": "code",
   "execution_count": 51,
   "metadata": {},
   "outputs": [
    {
     "data": {
      "text/plain": [
       "Cuisines\n",
       "North Indian                      936\n",
       "North Indian, Chinese             511\n",
       "Fast Food                         354\n",
       "Chinese                           354\n",
       "North Indian, Mughlai             334\n",
       "Cafe                              299\n",
       "Bakery                            218\n",
       "North Indian, Mughlai, Chinese    197\n",
       "Bakery, Desserts                  170\n",
       "Street Food                       149\n",
       "Name: Cuisines, dtype: int64"
      ]
     },
     "execution_count": 51,
     "metadata": {},
     "output_type": "execute_result"
    }
   ],
   "source": [
    "data.groupby(['Cuisines'])['Cuisines'].count().sort_values(ascending = False).head(10)"
   ]
  },
  {
   "cell_type": "code",
   "execution_count": 56,
   "metadata": {},
   "outputs": [
    {
     "data": {
      "text/plain": [
       "Restaurant_Name\n",
       "Cafe Coffee Day    83\n",
       "Name: Cuisines, dtype: int64"
      ]
     },
     "execution_count": 56,
     "metadata": {},
     "output_type": "execute_result"
    }
   ],
   "source": [
    "data.groupby(['Restaurant_Name'])['Cuisines'].count().sort_values(ascending = False).head(1)"
   ]
  },
  {
   "cell_type": "code",
   "execution_count": 58,
   "metadata": {},
   "outputs": [
    {
     "data": {
      "text/plain": [
       "Restaurant_Name\n",
       "Corkscrew Cafe                          0\n",
       "Leonard's Bakery                        0\n",
       "Hillstone                               0\n",
       "Pearly's Famous Country Cookng          0\n",
       "Cookie Shoppe                           0\n",
       "Tybee Island Social Club                0\n",
       "Jimmie's Hot Dogs                       0\n",
       "HI Lite Bar & Lounge                    0\n",
       "Dovetail                                0\n",
       "Parikrama - The Revolving Restaurant    1\n",
       "Name: Cuisines, dtype: int64"
      ]
     },
     "execution_count": 58,
     "metadata": {},
     "output_type": "execute_result"
    }
   ],
   "source": [
    "data.groupby(['Restaurant_Name'])['Cuisines'].count().sort_values(ascending = True).head(10)"
   ]
  },
  {
   "cell_type": "code",
   "execution_count": 61,
   "metadata": {},
   "outputs": [
    {
     "data": {
      "text/plain": [
       "Aggregate_rating  Rating_color  Rating_text\n",
       "4.9               Dark Green    Excellent      4.9\n",
       "4.8               Dark Green    Excellent      4.8\n",
       "4.7               Dark Green    Excellent      4.7\n",
       "4.6               Dark Green    Excellent      4.6\n",
       "4.5               Dark Green    Excellent      4.5\n",
       "4.4               Green         Very Good      4.4\n",
       "4.3               Green         Very Good      4.3\n",
       "4.2               Green         Very Good      4.2\n",
       "4.1               Green         Very Good      4.1\n",
       "4.0               Green         Very Good      4.0\n",
       "Name: Aggregate_rating, dtype: float64"
      ]
     },
     "execution_count": 61,
     "metadata": {},
     "output_type": "execute_result"
    }
   ],
   "source": [
    "data.groupby(['Aggregate_rating','Rating_color','Rating_text'])['Aggregate_rating'].max().sort_values(ascending = False).head(10)"
   ]
  },
  {
   "cell_type": "code",
   "execution_count": null,
   "metadata": {},
   "outputs": [],
   "source": []
  }
 ],
 "metadata": {
  "kernelspec": {
   "display_name": "Python 3",
   "language": "python",
   "name": "python3"
  },
  "language_info": {
   "codemirror_mode": {
    "name": "ipython",
    "version": 3
   },
   "file_extension": ".py",
   "mimetype": "text/x-python",
   "name": "python",
   "nbconvert_exporter": "python",
   "pygments_lexer": "ipython3",
   "version": "3.8.3"
  }
 },
 "nbformat": 4,
 "nbformat_minor": 4
}
